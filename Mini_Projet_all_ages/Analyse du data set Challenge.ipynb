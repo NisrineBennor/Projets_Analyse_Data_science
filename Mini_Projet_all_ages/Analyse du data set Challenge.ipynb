{
 "cells": [
  {
   "cell_type": "markdown",
   "metadata": {},
   "source": [
    "## Analyse du data set"
   ]
  },
  {
   "cell_type": "code",
   "execution_count": 4,
   "metadata": {},
   "outputs": [],
   "source": [
    "### importer le package \n",
    "import pandas as pd"
   ]
  },
  {
   "cell_type": "code",
   "execution_count": 5,
   "metadata": {},
   "outputs": [
    {
     "data": {
      "text/html": [
       "<div>\n",
       "<style scoped>\n",
       "    .dataframe tbody tr th:only-of-type {\n",
       "        vertical-align: middle;\n",
       "    }\n",
       "\n",
       "    .dataframe tbody tr th {\n",
       "        vertical-align: top;\n",
       "    }\n",
       "\n",
       "    .dataframe thead th {\n",
       "        text-align: right;\n",
       "    }\n",
       "</style>\n",
       "<table border=\"1\" class=\"dataframe\">\n",
       "  <thead>\n",
       "    <tr style=\"text-align: right;\">\n",
       "      <th></th>\n",
       "      <th>Major_code</th>\n",
       "      <th>Major</th>\n",
       "      <th>Major_category</th>\n",
       "      <th>Total</th>\n",
       "      <th>Employed</th>\n",
       "      <th>Employed_full_time_year_round</th>\n",
       "      <th>Unemployed</th>\n",
       "      <th>Unemployment_rate</th>\n",
       "      <th>Median</th>\n",
       "      <th>P25th</th>\n",
       "      <th>P75th</th>\n",
       "    </tr>\n",
       "  </thead>\n",
       "  <tbody>\n",
       "    <tr>\n",
       "      <th>0</th>\n",
       "      <td>1100</td>\n",
       "      <td>GENERAL AGRICULTURE</td>\n",
       "      <td>Agriculture &amp; Natural Resources</td>\n",
       "      <td>128148.0</td>\n",
       "      <td>90245.0</td>\n",
       "      <td>74078.0</td>\n",
       "      <td>2423.0</td>\n",
       "      <td>0.026147</td>\n",
       "      <td>50000.0</td>\n",
       "      <td>34000.0</td>\n",
       "      <td>80000.0</td>\n",
       "    </tr>\n",
       "    <tr>\n",
       "      <th>1</th>\n",
       "      <td>1101</td>\n",
       "      <td>AGRICULTURE PRODUCTION AND MANAGEMENT</td>\n",
       "      <td>Agriculture &amp; Natural Resources</td>\n",
       "      <td>95326.0</td>\n",
       "      <td>76865.0</td>\n",
       "      <td>64240.0</td>\n",
       "      <td>2266.0</td>\n",
       "      <td>0.028636</td>\n",
       "      <td>54000.0</td>\n",
       "      <td>36000.0</td>\n",
       "      <td>80000.0</td>\n",
       "    </tr>\n",
       "    <tr>\n",
       "      <th>2</th>\n",
       "      <td>1102</td>\n",
       "      <td>AGRICULTURAL ECONOMICS</td>\n",
       "      <td>Agriculture &amp; Natural Resources</td>\n",
       "      <td>33955.0</td>\n",
       "      <td>26321.0</td>\n",
       "      <td>22810.0</td>\n",
       "      <td>821.0</td>\n",
       "      <td>0.030248</td>\n",
       "      <td>63000.0</td>\n",
       "      <td>40000.0</td>\n",
       "      <td>98000.0</td>\n",
       "    </tr>\n",
       "    <tr>\n",
       "      <th>3</th>\n",
       "      <td>1103</td>\n",
       "      <td>ANIMAL SCIENCES</td>\n",
       "      <td>Agriculture &amp; Natural Resources</td>\n",
       "      <td>103549.0</td>\n",
       "      <td>81177.0</td>\n",
       "      <td>64937.0</td>\n",
       "      <td>3619.0</td>\n",
       "      <td>0.042679</td>\n",
       "      <td>46000.0</td>\n",
       "      <td>30000.0</td>\n",
       "      <td>72000.0</td>\n",
       "    </tr>\n",
       "    <tr>\n",
       "      <th>4</th>\n",
       "      <td>1104</td>\n",
       "      <td>FOOD SCIENCE</td>\n",
       "      <td>Agriculture &amp; Natural Resources</td>\n",
       "      <td>24280.0</td>\n",
       "      <td>17281.0</td>\n",
       "      <td>12722.0</td>\n",
       "      <td>894.0</td>\n",
       "      <td>0.049188</td>\n",
       "      <td>62000.0</td>\n",
       "      <td>38500.0</td>\n",
       "      <td>90000.0</td>\n",
       "    </tr>\n",
       "  </tbody>\n",
       "</table>\n",
       "</div>"
      ],
      "text/plain": [
       "  Major_code                                  Major  \\\n",
       "0       1100                    GENERAL AGRICULTURE   \n",
       "1       1101  AGRICULTURE PRODUCTION AND MANAGEMENT   \n",
       "2       1102                 AGRICULTURAL ECONOMICS   \n",
       "3       1103                        ANIMAL SCIENCES   \n",
       "4       1104                           FOOD SCIENCE   \n",
       "\n",
       "                    Major_category     Total  Employed  \\\n",
       "0  Agriculture & Natural Resources  128148.0   90245.0   \n",
       "1  Agriculture & Natural Resources   95326.0   76865.0   \n",
       "2  Agriculture & Natural Resources   33955.0   26321.0   \n",
       "3  Agriculture & Natural Resources  103549.0   81177.0   \n",
       "4  Agriculture & Natural Resources   24280.0   17281.0   \n",
       "\n",
       "   Employed_full_time_year_round  Unemployed  Unemployment_rate   Median  \\\n",
       "0                        74078.0      2423.0           0.026147  50000.0   \n",
       "1                        64240.0      2266.0           0.028636  54000.0   \n",
       "2                        22810.0       821.0           0.030248  63000.0   \n",
       "3                        64937.0      3619.0           0.042679  46000.0   \n",
       "4                        12722.0       894.0           0.049188  62000.0   \n",
       "\n",
       "     P25th    P75th  \n",
       "0  34000.0  80000.0  \n",
       "1  36000.0  80000.0  \n",
       "2  40000.0  98000.0  \n",
       "3  30000.0  72000.0  \n",
       "4  38500.0  90000.0  "
      ]
     },
     "execution_count": 5,
     "metadata": {},
     "output_type": "execute_result"
    }
   ],
   "source": [
    "### Lire le data set qui correspond aux domaines d'emploi par domaine d'études pour tout les ages \n",
    "all_ages=pd.read_csv(\"all-ages.csv\")\n",
    "all_ages.head(5)"
   ]
  },
  {
   "cell_type": "code",
   "execution_count": 31,
   "metadata": {},
   "outputs": [
    {
     "data": {
      "text/html": [
       "<div>\n",
       "<style scoped>\n",
       "    .dataframe tbody tr th:only-of-type {\n",
       "        vertical-align: middle;\n",
       "    }\n",
       "\n",
       "    .dataframe tbody tr th {\n",
       "        vertical-align: top;\n",
       "    }\n",
       "\n",
       "    .dataframe thead th {\n",
       "        text-align: right;\n",
       "    }\n",
       "</style>\n",
       "<table border=\"1\" class=\"dataframe\">\n",
       "  <thead>\n",
       "    <tr style=\"text-align: right;\">\n",
       "      <th></th>\n",
       "      <th>Rank</th>\n",
       "      <th>Major_code</th>\n",
       "      <th>Major</th>\n",
       "      <th>Major_category</th>\n",
       "      <th>Total</th>\n",
       "      <th>Sample_size</th>\n",
       "      <th>Men</th>\n",
       "      <th>Women</th>\n",
       "      <th>ShareWomen</th>\n",
       "      <th>Employed</th>\n",
       "      <th>...</th>\n",
       "      <th>Part_time</th>\n",
       "      <th>Full_time_year_round</th>\n",
       "      <th>Unemployed</th>\n",
       "      <th>Unemployment_rate</th>\n",
       "      <th>Median</th>\n",
       "      <th>P25th</th>\n",
       "      <th>P75th</th>\n",
       "      <th>College_jobs</th>\n",
       "      <th>Non_college_jobs</th>\n",
       "      <th>Low_wage_jobs</th>\n",
       "    </tr>\n",
       "  </thead>\n",
       "  <tbody>\n",
       "    <tr>\n",
       "      <th>0</th>\n",
       "      <td>1</td>\n",
       "      <td>2419.0</td>\n",
       "      <td>PETROLEUM ENGINEERING</td>\n",
       "      <td>Engineering</td>\n",
       "      <td>2339.0</td>\n",
       "      <td>36.0</td>\n",
       "      <td>2057.0</td>\n",
       "      <td>282.0</td>\n",
       "      <td>0.120564</td>\n",
       "      <td>1976.0</td>\n",
       "      <td>...</td>\n",
       "      <td>270.0</td>\n",
       "      <td>1207.0</td>\n",
       "      <td>37.0</td>\n",
       "      <td>0.018381</td>\n",
       "      <td>110000.0</td>\n",
       "      <td>95000.0</td>\n",
       "      <td>125000.0</td>\n",
       "      <td>1534.0</td>\n",
       "      <td>364.0</td>\n",
       "      <td>193.0</td>\n",
       "    </tr>\n",
       "    <tr>\n",
       "      <th>1</th>\n",
       "      <td>2</td>\n",
       "      <td>2416.0</td>\n",
       "      <td>MINING AND MINERAL ENGINEERING</td>\n",
       "      <td>Engineering</td>\n",
       "      <td>756.0</td>\n",
       "      <td>7.0</td>\n",
       "      <td>679.0</td>\n",
       "      <td>77.0</td>\n",
       "      <td>0.101852</td>\n",
       "      <td>640.0</td>\n",
       "      <td>...</td>\n",
       "      <td>170.0</td>\n",
       "      <td>388.0</td>\n",
       "      <td>85.0</td>\n",
       "      <td>0.117241</td>\n",
       "      <td>75000.0</td>\n",
       "      <td>55000.0</td>\n",
       "      <td>90000.0</td>\n",
       "      <td>350.0</td>\n",
       "      <td>257.0</td>\n",
       "      <td>50.0</td>\n",
       "    </tr>\n",
       "    <tr>\n",
       "      <th>2</th>\n",
       "      <td>3</td>\n",
       "      <td>2415.0</td>\n",
       "      <td>METALLURGICAL ENGINEERING</td>\n",
       "      <td>Engineering</td>\n",
       "      <td>856.0</td>\n",
       "      <td>3.0</td>\n",
       "      <td>725.0</td>\n",
       "      <td>131.0</td>\n",
       "      <td>0.153037</td>\n",
       "      <td>648.0</td>\n",
       "      <td>...</td>\n",
       "      <td>133.0</td>\n",
       "      <td>340.0</td>\n",
       "      <td>16.0</td>\n",
       "      <td>0.024096</td>\n",
       "      <td>73000.0</td>\n",
       "      <td>50000.0</td>\n",
       "      <td>105000.0</td>\n",
       "      <td>456.0</td>\n",
       "      <td>176.0</td>\n",
       "      <td>0.0</td>\n",
       "    </tr>\n",
       "    <tr>\n",
       "      <th>3</th>\n",
       "      <td>4</td>\n",
       "      <td>2417.0</td>\n",
       "      <td>NAVAL ARCHITECTURE AND MARINE ENGINEERING</td>\n",
       "      <td>Engineering</td>\n",
       "      <td>1258.0</td>\n",
       "      <td>16.0</td>\n",
       "      <td>1123.0</td>\n",
       "      <td>135.0</td>\n",
       "      <td>0.107313</td>\n",
       "      <td>758.0</td>\n",
       "      <td>...</td>\n",
       "      <td>150.0</td>\n",
       "      <td>692.0</td>\n",
       "      <td>40.0</td>\n",
       "      <td>0.050125</td>\n",
       "      <td>70000.0</td>\n",
       "      <td>43000.0</td>\n",
       "      <td>80000.0</td>\n",
       "      <td>529.0</td>\n",
       "      <td>102.0</td>\n",
       "      <td>0.0</td>\n",
       "    </tr>\n",
       "    <tr>\n",
       "      <th>4</th>\n",
       "      <td>5</td>\n",
       "      <td>2405.0</td>\n",
       "      <td>CHEMICAL ENGINEERING</td>\n",
       "      <td>Engineering</td>\n",
       "      <td>32260.0</td>\n",
       "      <td>289.0</td>\n",
       "      <td>21239.0</td>\n",
       "      <td>11021.0</td>\n",
       "      <td>0.341631</td>\n",
       "      <td>25694.0</td>\n",
       "      <td>...</td>\n",
       "      <td>5180.0</td>\n",
       "      <td>16697.0</td>\n",
       "      <td>1672.0</td>\n",
       "      <td>0.061098</td>\n",
       "      <td>65000.0</td>\n",
       "      <td>50000.0</td>\n",
       "      <td>75000.0</td>\n",
       "      <td>18314.0</td>\n",
       "      <td>4440.0</td>\n",
       "      <td>972.0</td>\n",
       "    </tr>\n",
       "  </tbody>\n",
       "</table>\n",
       "<p>5 rows × 21 columns</p>\n",
       "</div>"
      ],
      "text/plain": [
       "  Rank  Major_code                                      Major Major_category  \\\n",
       "0    1      2419.0                      PETROLEUM ENGINEERING    Engineering   \n",
       "1    2      2416.0             MINING AND MINERAL ENGINEERING    Engineering   \n",
       "2    3      2415.0                  METALLURGICAL ENGINEERING    Engineering   \n",
       "3    4      2417.0  NAVAL ARCHITECTURE AND MARINE ENGINEERING    Engineering   \n",
       "4    5      2405.0                       CHEMICAL ENGINEERING    Engineering   \n",
       "\n",
       "     Total  Sample_size      Men    Women  ShareWomen  Employed  ...  \\\n",
       "0   2339.0         36.0   2057.0    282.0    0.120564    1976.0  ...   \n",
       "1    756.0          7.0    679.0     77.0    0.101852     640.0  ...   \n",
       "2    856.0          3.0    725.0    131.0    0.153037     648.0  ...   \n",
       "3   1258.0         16.0   1123.0    135.0    0.107313     758.0  ...   \n",
       "4  32260.0        289.0  21239.0  11021.0    0.341631   25694.0  ...   \n",
       "\n",
       "   Part_time  Full_time_year_round  Unemployed  Unemployment_rate    Median  \\\n",
       "0      270.0                1207.0        37.0           0.018381  110000.0   \n",
       "1      170.0                 388.0        85.0           0.117241   75000.0   \n",
       "2      133.0                 340.0        16.0           0.024096   73000.0   \n",
       "3      150.0                 692.0        40.0           0.050125   70000.0   \n",
       "4     5180.0               16697.0      1672.0           0.061098   65000.0   \n",
       "\n",
       "     P25th     P75th  College_jobs  Non_college_jobs  Low_wage_jobs  \n",
       "0  95000.0  125000.0        1534.0             364.0          193.0  \n",
       "1  55000.0   90000.0         350.0             257.0           50.0  \n",
       "2  50000.0  105000.0         456.0             176.0            0.0  \n",
       "3  43000.0   80000.0         529.0             102.0            0.0  \n",
       "4  50000.0   75000.0       18314.0            4440.0          972.0  \n",
       "\n",
       "[5 rows x 21 columns]"
      ]
     },
     "execution_count": 31,
     "metadata": {},
     "output_type": "execute_result"
    }
   ],
   "source": [
    "### Lire le data set répertorie le domaine d'emploi par domaine d'études pour les diplomés universitaires récents. \n",
    "recent_grads=pd.read_csv(\"recent-grads.csv\")\n",
    "recent_grads.head(5)"
   ]
  },
  {
   "cell_type": "code",
   "execution_count": null,
   "metadata": {},
   "outputs": [],
   "source": []
  },
  {
   "cell_type": "markdown",
   "metadata": {},
   "source": [
    "#### Nombre d'étudiants par catégrie de major"
   ]
  },
  {
   "cell_type": "code",
   "execution_count": 7,
   "metadata": {},
   "outputs": [
    {
     "data": {
      "text/plain": [
       "array(['Agriculture & Natural Resources', 'Biology & Life Science',\n",
       "       'Engineering', 'Humanities & Liberal Arts',\n",
       "       'Communications & Journalism', 'Computers & Mathematics',\n",
       "       'Industrial Arts & Consumer Services', 'Education',\n",
       "       'Law & Public Policy', 'Interdisciplinary', 'Health',\n",
       "       'Social Science', 'Physical Sciences', nan,\n",
       "       'Psychology & Social Work', 'Arts', 'Business'], dtype=object)"
      ]
     },
     "execution_count": 7,
     "metadata": {},
     "output_type": "execute_result"
    }
   ],
   "source": [
    "all_ages[\"Major_category\"].unique()"
   ]
  },
  {
   "cell_type": "code",
   "execution_count": null,
   "metadata": {},
   "outputs": [],
   "source": [
    "### créer une fonction dans laquelle\n",
    "##vous utiliserez la colonne Total pour calculer le\n",
    "##nombre d'étudiants pour chaque catégorie de Majou \n",
    "##(Major_category) dans chaque dataset.\n"
   ]
  },
  {
   "cell_type": "code",
   "execution_count": 8,
   "metadata": {},
   "outputs": [],
   "source": [
    "def calculate_Major_category(DataFrame):\n",
    "    Category = DataFrame[\"Major_category\"].unique()\n",
    "    Counts_Dictionary = {}\n",
    "    \n",
    "    for c in Category:\n",
    "        Major_DataFrame = DataFrame[DataFrame[\"Major_category\"]==c]\n",
    "        total = Major_DataFrame[\"Total\"].sum()\n",
    "        Counts_Dictionary[c]=total\n",
    "    return Counts_Dictionary"
   ]
  },
  {
   "cell_type": "code",
   "execution_count": 12,
   "metadata": {},
   "outputs": [
    {
     "name": "stdout",
     "output_type": "stream",
     "text": [
      "{'Agriculture & Natural Resources': 632437.0, 'Biology & Life Science': 1338186.0, 'Engineering': 3576013.0, 'Humanities & Liberal Arts': 3738335.0, 'Communications & Journalism': 1803822.0, 'Computers & Mathematics': 1781378.0, 'Industrial Arts & Consumer Services': 1018072.0, 'Education': 4700118.0, 'Law & Public Policy': 902926.0, 'Interdisciplinary': 45199.0, 'Health': 2950859.0, 'Social Science': 2654125.0, 'Physical Sciences': 1013152.0, nan: 0.0, 'Psychology & Social Work': 1987278.0, 'Arts': 1805865.0, 'Business': 9858741.0}\n"
     ]
    }
   ],
   "source": [
    "### Pour all_ages\n",
    "all_age_category_counts = {}\n",
    "category_counts=calculate_Major_category(all_ages)\n",
    "print(category_counts)"
   ]
  },
  {
   "cell_type": "code",
   "execution_count": 13,
   "metadata": {},
   "outputs": [
    {
     "name": "stdout",
     "output_type": "stream",
     "text": [
      "{'Engineering': 537583.0, 'Business': 1302376.0, 'Physical Sciences': 183363.0, 'Law & Public Policy': 179107.0, 'Computers & Mathematics': 299008.0, 'Agriculture & Natural Resources': 79981.0, 'Industrial Arts & Consumer Services': 227357.0, 'Arts': 357130.0, 'Health': 463230.0, 'Social Science': 529966.0, nan: 0.0, 'Biology & Life Science': 453862.0, 'Education': 559129.0, 'Humanities & Liberal Arts': 713468.0, 'Psychology & Social Work': 481007.0, 'Communications & Journalism': 392601.0, 'Interdisciplinary': 12296.0}\n"
     ]
    }
   ],
   "source": [
    "## Pour recent_grads\n",
    "recent_grads_category_counts = {}\n",
    "recent_grads_category_counts=calculate_Major_category(recent_grads)\n",
    "print(recent_grads_category_counts)"
   ]
  },
  {
   "cell_type": "code",
   "execution_count": 19,
   "metadata": {},
   "outputs": [],
   "source": [
    "### Autre méthode \n",
    "import numpy as np\n"
   ]
  },
  {
   "cell_type": "code",
   "execution_count": 26,
   "metadata": {},
   "outputs": [
    {
     "data": {
      "text/plain": [
       "{'Total': Major_category\n",
       " Agriculture & Natural Resources         632437.0\n",
       " Arts                                   1805865.0\n",
       " Biology & Life Science                 1338186.0\n",
       " Business                               9858741.0\n",
       " Communications & Journalism            1803822.0\n",
       " Computers & Mathematics                1781378.0\n",
       " Education                              4700118.0\n",
       " Engineering                            3576013.0\n",
       " Health                                 2950859.0\n",
       " Humanities & Liberal Arts              3738335.0\n",
       " Industrial Arts & Consumer Services    1018072.0\n",
       " Interdisciplinary                        45199.0\n",
       " Law & Public Policy                     902926.0\n",
       " Physical Sciences                      1013152.0\n",
       " Psychology & Social Work               1987278.0\n",
       " Social Science                         2654125.0\n",
       " Name: Total, dtype: float64}"
      ]
     },
     "execution_count": 26,
     "metadata": {},
     "output_type": "execute_result"
    }
   ],
   "source": [
    "all_age_category_counts =dict(all_ages.pivot_table(index=\"Major_category\",values=\"Total\",aggfunc=np.sum))\n",
    "all_age_category_counts          "
   ]
  },
  {
   "cell_type": "markdown",
   "metadata": {},
   "source": [
    "### Taux de job à faible salaire "
   ]
  },
  {
   "cell_type": "code",
   "execution_count": 35,
   "metadata": {},
   "outputs": [
    {
     "data": {
      "text/plain": [
       "{'Total': Low_wage_jobs\n",
       " 0.0          3741.0\n",
       " 25.0          609.0\n",
       " 31.0         1488.0\n",
       " 37.0         1386.0\n",
       " 49.0          720.0\n",
       "              ...   \n",
       " 27440.0    213996.0\n",
       " 27968.0    205211.0\n",
       " 28339.0    280709.0\n",
       " 32395.0    329927.0\n",
       " 48207.0    393735.0\n",
       " Name: Total, Length: 165, dtype: float64}"
      ]
     },
     "execution_count": 35,
     "metadata": {},
     "output_type": "execute_result"
    }
   ],
   "source": [
    "\n",
    "low_wage_proportion = dict(recent_grads.pivot_table(index=\"Low_wage_jobs\", values=\"Total\", aggfunc=np.sum))\n",
    "low_wage_proportion"
   ]
  },
  {
   "cell_type": "code",
   "execution_count": 41,
   "metadata": {},
   "outputs": [],
   "source": [
    "low_wage_proportion_sum = recent_grads[\"Low_wage_jobs\"].sum()\n",
    "recent_grads_total=recent_grads[\"Total\"].sum()"
   ]
  },
  {
   "cell_type": "code",
   "execution_count": 42,
   "metadata": {},
   "outputs": [
    {
     "data": {
      "text/plain": [
       "667405.0"
      ]
     },
     "execution_count": 42,
     "metadata": {},
     "output_type": "execute_result"
    }
   ],
   "source": [
    "low_wage_proportion_sum"
   ]
  },
  {
   "cell_type": "code",
   "execution_count": 43,
   "metadata": {},
   "outputs": [
    {
     "data": {
      "text/plain": [
       "6771464.0"
      ]
     },
     "execution_count": 43,
     "metadata": {},
     "output_type": "execute_result"
    }
   ],
   "source": [
    "recent_grads_total"
   ]
  },
  {
   "cell_type": "code",
   "execution_count": 44,
   "metadata": {},
   "outputs": [
    {
     "data": {
      "text/plain": [
       "0.09856140415130317"
      ]
     },
     "execution_count": 44,
     "metadata": {},
     "output_type": "execute_result"
    }
   ],
   "source": [
    "### Calcul de proportion \n",
    "low_wage_proportion_sum/recent_grads_total"
   ]
  },
  {
   "cell_type": "markdown",
   "metadata": {},
   "source": [
    "### Comparer des datasets"
   ]
  },
  {
   "cell_type": "code",
   "execution_count": 46,
   "metadata": {},
   "outputs": [],
   "source": [
    "## Liste des majors communes à nos 2 DataFrames\n",
    "majors = recent_grads['Major'].unique()"
   ]
  },
  {
   "cell_type": "code",
   "execution_count": 59,
   "metadata": {},
   "outputs": [
    {
     "name": "stdout",
     "output_type": "stream",
     "text": [
      "42\n"
     ]
    },
    {
     "name": "stderr",
     "output_type": "stream",
     "text": [
      "<ipython-input-59-e0b9e0d8a24e>:9: DeprecationWarning: The truth value of an empty array is ambiguous. Returning False, but in future this will result in an error. Use `array.size > 0` to check that an array is not empty.\n",
      "  if recent_grads_Unemployment_rate < all_ages_Unemployment_rate:\n"
     ]
    }
   ],
   "source": [
    "recent_grads_count=0\n",
    "for m in majors:\n",
    "    recent_grads_majors=recent_grads[recent_grads['Major']== m]\n",
    "    all_ages_majors=all_ages[all_ages['Major']== m]\n",
    "    \n",
    "    recent_grads_Unemployment_rate=recent_grads_majors['Unemployment_rate'].values\n",
    "    all_ages_Unemployment_rate=all_ages_majors['Unemployment_rate'].values\n",
    " \n",
    "    if recent_grads_Unemployment_rate < all_ages_Unemployment_rate:\n",
    "        recent_grads_count +=1\n",
    "        \n",
    "print(recent_grads_count)\n",
    "\n",
    "### 42 major sur 173 pour lesquels les diplomés récents\n",
    "## font mieux que la population entière en terme de taux d'emploi.\n",
    "## càd moins du taux de chômage\n",
    "\n",
    "    "
   ]
  },
  {
   "cell_type": "code",
   "execution_count": null,
   "metadata": {},
   "outputs": [],
   "source": []
  },
  {
   "cell_type": "code",
   "execution_count": null,
   "metadata": {},
   "outputs": [],
   "source": []
  },
  {
   "cell_type": "code",
   "execution_count": null,
   "metadata": {},
   "outputs": [],
   "source": []
  },
  {
   "cell_type": "code",
   "execution_count": null,
   "metadata": {},
   "outputs": [],
   "source": []
  },
  {
   "cell_type": "code",
   "execution_count": null,
   "metadata": {},
   "outputs": [],
   "source": []
  },
  {
   "cell_type": "code",
   "execution_count": null,
   "metadata": {},
   "outputs": [],
   "source": []
  },
  {
   "cell_type": "code",
   "execution_count": null,
   "metadata": {},
   "outputs": [],
   "source": []
  }
 ],
 "metadata": {
  "kernelspec": {
   "display_name": "Python 3",
   "language": "python",
   "name": "python3"
  },
  "language_info": {
   "codemirror_mode": {
    "name": "ipython",
    "version": 3
   },
   "file_extension": ".py",
   "mimetype": "text/x-python",
   "name": "python",
   "nbconvert_exporter": "python",
   "pygments_lexer": "ipython3",
   "version": "3.8.3"
  }
 },
 "nbformat": 4,
 "nbformat_minor": 4
}
